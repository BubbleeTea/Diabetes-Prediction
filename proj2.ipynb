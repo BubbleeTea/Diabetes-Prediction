{
 "cells": [
  {
   "cell_type": "code",
   "execution_count": 1,
   "metadata": {},
   "outputs": [],
   "source": [
    "import numpy as np\n",
    "import matplotlib.pyplot as plt\n",
    "import pandas as pd\n"
   ]
  },
  {
   "cell_type": "code",
   "execution_count": 2,
   "metadata": {},
   "outputs": [],
   "source": [
    "dataset = pd.read_csv('diabetes.csv')\n",
    "X = dataset.iloc[:, 0:8]\n",
    "y = dataset.iloc[:, 8]"
   ]
  },
  {
   "cell_type": "code",
   "execution_count": 3,
   "metadata": {},
   "outputs": [
    {
     "data": {
      "text/plain": [
       "0      1\n",
       "1      0\n",
       "2      1\n",
       "3      0\n",
       "4      1\n",
       "      ..\n",
       "763    0\n",
       "764    0\n",
       "765    0\n",
       "766    1\n",
       "767    0\n",
       "Name: Outcome, Length: 768, dtype: int64"
      ]
     },
     "execution_count": 3,
     "metadata": {},
     "output_type": "execute_result"
    }
   ],
   "source": [
    "y"
   ]
  },
  {
   "cell_type": "code",
   "execution_count": 4,
   "metadata": {},
   "outputs": [
    {
     "data": {
      "text/plain": [
       "(768, 9)"
      ]
     },
     "execution_count": 4,
     "metadata": {},
     "output_type": "execute_result"
    }
   ],
   "source": [
    "dataset.shape"
   ]
  },
  {
   "cell_type": "code",
   "execution_count": 5,
   "metadata": {},
   "outputs": [
    {
     "data": {
      "text/html": [
       "<div>\n",
       "<style scoped>\n",
       "    .dataframe tbody tr th:only-of-type {\n",
       "        vertical-align: middle;\n",
       "    }\n",
       "\n",
       "    .dataframe tbody tr th {\n",
       "        vertical-align: top;\n",
       "    }\n",
       "\n",
       "    .dataframe thead th {\n",
       "        text-align: right;\n",
       "    }\n",
       "</style>\n",
       "<table border=\"1\" class=\"dataframe\">\n",
       "  <thead>\n",
       "    <tr style=\"text-align: right;\">\n",
       "      <th></th>\n",
       "      <th>Pregnancies</th>\n",
       "      <th>Glucose</th>\n",
       "      <th>BloodPressure</th>\n",
       "      <th>SkinThickness</th>\n",
       "      <th>Insulin</th>\n",
       "      <th>BMI</th>\n",
       "      <th>DiabetesPedigreeFunction</th>\n",
       "      <th>Age</th>\n",
       "      <th>Outcome</th>\n",
       "    </tr>\n",
       "  </thead>\n",
       "  <tbody>\n",
       "    <tr>\n",
       "      <th>0</th>\n",
       "      <td>6</td>\n",
       "      <td>148</td>\n",
       "      <td>72</td>\n",
       "      <td>35</td>\n",
       "      <td>0</td>\n",
       "      <td>33.6</td>\n",
       "      <td>0.627</td>\n",
       "      <td>50</td>\n",
       "      <td>1</td>\n",
       "    </tr>\n",
       "    <tr>\n",
       "      <th>1</th>\n",
       "      <td>1</td>\n",
       "      <td>85</td>\n",
       "      <td>66</td>\n",
       "      <td>29</td>\n",
       "      <td>0</td>\n",
       "      <td>26.6</td>\n",
       "      <td>0.351</td>\n",
       "      <td>31</td>\n",
       "      <td>0</td>\n",
       "    </tr>\n",
       "    <tr>\n",
       "      <th>2</th>\n",
       "      <td>8</td>\n",
       "      <td>183</td>\n",
       "      <td>64</td>\n",
       "      <td>0</td>\n",
       "      <td>0</td>\n",
       "      <td>23.3</td>\n",
       "      <td>0.672</td>\n",
       "      <td>32</td>\n",
       "      <td>1</td>\n",
       "    </tr>\n",
       "    <tr>\n",
       "      <th>3</th>\n",
       "      <td>1</td>\n",
       "      <td>89</td>\n",
       "      <td>66</td>\n",
       "      <td>23</td>\n",
       "      <td>94</td>\n",
       "      <td>28.1</td>\n",
       "      <td>0.167</td>\n",
       "      <td>21</td>\n",
       "      <td>0</td>\n",
       "    </tr>\n",
       "    <tr>\n",
       "      <th>4</th>\n",
       "      <td>0</td>\n",
       "      <td>137</td>\n",
       "      <td>40</td>\n",
       "      <td>35</td>\n",
       "      <td>168</td>\n",
       "      <td>43.1</td>\n",
       "      <td>2.288</td>\n",
       "      <td>33</td>\n",
       "      <td>1</td>\n",
       "    </tr>\n",
       "  </tbody>\n",
       "</table>\n",
       "</div>"
      ],
      "text/plain": [
       "   Pregnancies  Glucose  BloodPressure  SkinThickness  Insulin   BMI   \n",
       "0            6      148             72             35        0  33.6  \\\n",
       "1            1       85             66             29        0  26.6   \n",
       "2            8      183             64              0        0  23.3   \n",
       "3            1       89             66             23       94  28.1   \n",
       "4            0      137             40             35      168  43.1   \n",
       "\n",
       "   DiabetesPedigreeFunction  Age  Outcome  \n",
       "0                     0.627   50        1  \n",
       "1                     0.351   31        0  \n",
       "2                     0.672   32        1  \n",
       "3                     0.167   21        0  \n",
       "4                     2.288   33        1  "
      ]
     },
     "execution_count": 5,
     "metadata": {},
     "output_type": "execute_result"
    }
   ],
   "source": [
    "dataset.head(5)"
   ]
  },
  {
   "cell_type": "code",
   "execution_count": 6,
   "metadata": {},
   "outputs": [],
   "source": [
    "common_age = dataset['Age'].value_counts()"
   ]
  },
  {
   "cell_type": "code",
   "execution_count": 7,
   "metadata": {},
   "outputs": [
    {
     "data": {
      "text/plain": [
       "Age\n",
       "22    72\n",
       "21    63\n",
       "25    48\n",
       "24    46\n",
       "23    38\n",
       "Name: count, dtype: int64"
      ]
     },
     "execution_count": 7,
     "metadata": {},
     "output_type": "execute_result"
    }
   ],
   "source": [
    "common_age.head()"
   ]
  },
  {
   "cell_type": "code",
   "execution_count": 8,
   "metadata": {},
   "outputs": [
    {
     "data": {
      "text/plain": [
       "False"
      ]
     },
     "execution_count": 8,
     "metadata": {},
     "output_type": "execute_result"
    }
   ],
   "source": [
    "# check if any null value is present\n",
    "dataset.isnull().values.any()"
   ]
  },
  {
   "cell_type": "code",
   "execution_count": 9,
   "metadata": {},
   "outputs": [
    {
     "data": {
      "text/html": [
       "<div>\n",
       "<style scoped>\n",
       "    .dataframe tbody tr th:only-of-type {\n",
       "        vertical-align: middle;\n",
       "    }\n",
       "\n",
       "    .dataframe tbody tr th {\n",
       "        vertical-align: top;\n",
       "    }\n",
       "\n",
       "    .dataframe thead th {\n",
       "        text-align: right;\n",
       "    }\n",
       "</style>\n",
       "<table border=\"1\" class=\"dataframe\">\n",
       "  <thead>\n",
       "    <tr style=\"text-align: right;\">\n",
       "      <th></th>\n",
       "      <th>Pregnancies</th>\n",
       "      <th>Glucose</th>\n",
       "      <th>BloodPressure</th>\n",
       "      <th>SkinThickness</th>\n",
       "      <th>Insulin</th>\n",
       "      <th>BMI</th>\n",
       "      <th>DiabetesPedigreeFunction</th>\n",
       "      <th>Age</th>\n",
       "      <th>Outcome</th>\n",
       "    </tr>\n",
       "  </thead>\n",
       "  <tbody>\n",
       "    <tr>\n",
       "      <th>count</th>\n",
       "      <td>768.000000</td>\n",
       "      <td>768.000000</td>\n",
       "      <td>768.000000</td>\n",
       "      <td>768.000000</td>\n",
       "      <td>768.000000</td>\n",
       "      <td>768.000000</td>\n",
       "      <td>768.000000</td>\n",
       "      <td>768.000000</td>\n",
       "      <td>768.000000</td>\n",
       "    </tr>\n",
       "    <tr>\n",
       "      <th>mean</th>\n",
       "      <td>3.845052</td>\n",
       "      <td>120.894531</td>\n",
       "      <td>69.105469</td>\n",
       "      <td>20.536458</td>\n",
       "      <td>79.799479</td>\n",
       "      <td>31.992578</td>\n",
       "      <td>0.471876</td>\n",
       "      <td>33.240885</td>\n",
       "      <td>0.348958</td>\n",
       "    </tr>\n",
       "    <tr>\n",
       "      <th>std</th>\n",
       "      <td>3.369578</td>\n",
       "      <td>31.972618</td>\n",
       "      <td>19.355807</td>\n",
       "      <td>15.952218</td>\n",
       "      <td>115.244002</td>\n",
       "      <td>7.884160</td>\n",
       "      <td>0.331329</td>\n",
       "      <td>11.760232</td>\n",
       "      <td>0.476951</td>\n",
       "    </tr>\n",
       "    <tr>\n",
       "      <th>min</th>\n",
       "      <td>0.000000</td>\n",
       "      <td>0.000000</td>\n",
       "      <td>0.000000</td>\n",
       "      <td>0.000000</td>\n",
       "      <td>0.000000</td>\n",
       "      <td>0.000000</td>\n",
       "      <td>0.078000</td>\n",
       "      <td>21.000000</td>\n",
       "      <td>0.000000</td>\n",
       "    </tr>\n",
       "    <tr>\n",
       "      <th>25%</th>\n",
       "      <td>1.000000</td>\n",
       "      <td>99.000000</td>\n",
       "      <td>62.000000</td>\n",
       "      <td>0.000000</td>\n",
       "      <td>0.000000</td>\n",
       "      <td>27.300000</td>\n",
       "      <td>0.243750</td>\n",
       "      <td>24.000000</td>\n",
       "      <td>0.000000</td>\n",
       "    </tr>\n",
       "    <tr>\n",
       "      <th>50%</th>\n",
       "      <td>3.000000</td>\n",
       "      <td>117.000000</td>\n",
       "      <td>72.000000</td>\n",
       "      <td>23.000000</td>\n",
       "      <td>30.500000</td>\n",
       "      <td>32.000000</td>\n",
       "      <td>0.372500</td>\n",
       "      <td>29.000000</td>\n",
       "      <td>0.000000</td>\n",
       "    </tr>\n",
       "    <tr>\n",
       "      <th>75%</th>\n",
       "      <td>6.000000</td>\n",
       "      <td>140.250000</td>\n",
       "      <td>80.000000</td>\n",
       "      <td>32.000000</td>\n",
       "      <td>127.250000</td>\n",
       "      <td>36.600000</td>\n",
       "      <td>0.626250</td>\n",
       "      <td>41.000000</td>\n",
       "      <td>1.000000</td>\n",
       "    </tr>\n",
       "    <tr>\n",
       "      <th>max</th>\n",
       "      <td>17.000000</td>\n",
       "      <td>199.000000</td>\n",
       "      <td>122.000000</td>\n",
       "      <td>99.000000</td>\n",
       "      <td>846.000000</td>\n",
       "      <td>67.100000</td>\n",
       "      <td>2.420000</td>\n",
       "      <td>81.000000</td>\n",
       "      <td>1.000000</td>\n",
       "    </tr>\n",
       "  </tbody>\n",
       "</table>\n",
       "</div>"
      ],
      "text/plain": [
       "       Pregnancies     Glucose  BloodPressure  SkinThickness     Insulin   \n",
       "count   768.000000  768.000000     768.000000     768.000000  768.000000  \\\n",
       "mean      3.845052  120.894531      69.105469      20.536458   79.799479   \n",
       "std       3.369578   31.972618      19.355807      15.952218  115.244002   \n",
       "min       0.000000    0.000000       0.000000       0.000000    0.000000   \n",
       "25%       1.000000   99.000000      62.000000       0.000000    0.000000   \n",
       "50%       3.000000  117.000000      72.000000      23.000000   30.500000   \n",
       "75%       6.000000  140.250000      80.000000      32.000000  127.250000   \n",
       "max      17.000000  199.000000     122.000000      99.000000  846.000000   \n",
       "\n",
       "              BMI  DiabetesPedigreeFunction         Age     Outcome  \n",
       "count  768.000000                768.000000  768.000000  768.000000  \n",
       "mean    31.992578                  0.471876   33.240885    0.348958  \n",
       "std      7.884160                  0.331329   11.760232    0.476951  \n",
       "min      0.000000                  0.078000   21.000000    0.000000  \n",
       "25%     27.300000                  0.243750   24.000000    0.000000  \n",
       "50%     32.000000                  0.372500   29.000000    0.000000  \n",
       "75%     36.600000                  0.626250   41.000000    1.000000  \n",
       "max     67.100000                  2.420000   81.000000    1.000000  "
      ]
     },
     "execution_count": 9,
     "metadata": {},
     "output_type": "execute_result"
    }
   ],
   "source": [
    "dataset.describe()"
   ]
  },
  {
   "cell_type": "code",
   "execution_count": 10,
   "metadata": {},
   "outputs": [
    {
     "data": {
      "text/plain": [
       "Outcome\n",
       "0    500\n",
       "1    268\n",
       "Name: count, dtype: int64"
      ]
     },
     "execution_count": 10,
     "metadata": {},
     "output_type": "execute_result"
    }
   ],
   "source": [
    "# Checking number of peoples in the datset that are diabetic and non-diabetic\n",
    "dataset['Outcome'].value_counts()"
   ]
  },
  {
   "cell_type": "markdown",
   "metadata": {},
   "source": [
    "Here, 0 --> Non-Diabetic 1 --> Diabetic"
   ]
  },
  {
   "cell_type": "code",
   "execution_count": 11,
   "metadata": {},
   "outputs": [],
   "source": [
    "diabetes_true_count = len(dataset.loc[dataset['Outcome'] == True])\n",
    "diabetes_false_count = len(dataset.loc[dataset['Outcome'] == False])"
   ]
  },
  {
   "cell_type": "code",
   "execution_count": 12,
   "metadata": {},
   "outputs": [
    {
     "data": {
      "text/plain": [
       "(268, 500)"
      ]
     },
     "execution_count": 12,
     "metadata": {},
     "output_type": "execute_result"
    }
   ],
   "source": [
    "(diabetes_true_count,diabetes_false_count)"
   ]
  },
  {
   "cell_type": "code",
   "execution_count": 13,
   "metadata": {},
   "outputs": [],
   "source": [
    "#X = dataset.drop(columns='Outcome',axis=1)\n",
    "#Y = dataset['Outcome']"
   ]
  },
  {
   "cell_type": "code",
   "execution_count": 14,
   "metadata": {},
   "outputs": [],
   "source": [
    "from sklearn.model_selection import train_test_split\n",
    "#feature_columns = ['Pregnancies', 'Glucose', 'BloodPressure', 'SkinThickness', 'Insulin', 'BMI', 'DiabetesPedigreeFunction', 'Age']\n",
    "#predicted_class = ['Outcome']\n",
    "X_train, X_test, y_train, y_test = train_test_split(X, y, test_size = 0.2, random_state = 0)"
   ]
  },
  {
   "cell_type": "code",
   "execution_count": 15,
   "metadata": {},
   "outputs": [],
   "source": [
    "#X = dataset[feature_columns].values\n",
    "#Y = dataset[predicted_class].values\n",
    "\n",
    "\n",
    "#X_train, X_test, y_train, y_test = train_test_split(X, Y, test_size = 0.30, random_state=10)"
   ]
  },
  {
   "cell_type": "code",
   "execution_count": 16,
   "metadata": {},
   "outputs": [],
   "source": [
    "from sklearn.preprocessing import StandardScaler\n",
    "sc = StandardScaler()\n",
    "X_train = sc.fit_transform(X_train)\n",
    "X_test = sc.transform(X_test)"
   ]
  },
  {
   "cell_type": "code",
   "execution_count": 17,
   "metadata": {},
   "outputs": [],
   "source": [
    "#Check how many other missing(zero) values\n",
    "#print(\"total number of rows : {0}\".format(len(dataset)))\n",
    "#print(\"number of rows missing Glucose: {0}\".format(len(dataset.loc[dataset['Glucose'] == 0])))\n",
    "#print(\"number of rows missing BloodPressure: {0}\".format(len(dataset.loc[dataset['BloodPressure'] == 0])))\n",
    "#print(\"number of rows missing SkinThickness: {0}\".format(len(dataset.loc[dataset['SkinThickness'] == 0])))\n",
    "#print(\"number of rows missing Insulin: {0}\".format(len(dataset.loc[dataset['Insulin'] == 0])))\n",
    "#print(\"number of rows missing BMI: {0}\".format(len(dataset.loc[dataset['BMI'] == 0])))\n",
    "#print(\"number of rows missing DiabetesPedigreeFunction: {0}\".format(len(dataset.loc[dataset['DiabetesPedigreeFunction'] == 0])))\n",
    "#print(\"number of rows missing Age: {0}\".format(len(dataset.loc[dataset['Age'] == 0])))"
   ]
  },
  {
   "cell_type": "code",
   "execution_count": 18,
   "metadata": {},
   "outputs": [],
   "source": [
    "#from sklearn.preprocessing import Imputer\n",
    "#from sklearn.impute import SimpleImputer \n",
    "#fill_values = SimpleImputer(missing_values=0, strategy=\"mean\")\n",
    "\n",
    "##X_test = fill_values.fit_transform(X_test)"
   ]
  },
  {
   "cell_type": "code",
   "execution_count": 19,
   "metadata": {},
   "outputs": [
    {
     "data": {
      "text/html": [
       "<style>#sk-container-id-1 {color: black;background-color: white;}#sk-container-id-1 pre{padding: 0;}#sk-container-id-1 div.sk-toggleable {background-color: white;}#sk-container-id-1 label.sk-toggleable__label {cursor: pointer;display: block;width: 100%;margin-bottom: 0;padding: 0.3em;box-sizing: border-box;text-align: center;}#sk-container-id-1 label.sk-toggleable__label-arrow:before {content: \"▸\";float: left;margin-right: 0.25em;color: #696969;}#sk-container-id-1 label.sk-toggleable__label-arrow:hover:before {color: black;}#sk-container-id-1 div.sk-estimator:hover label.sk-toggleable__label-arrow:before {color: black;}#sk-container-id-1 div.sk-toggleable__content {max-height: 0;max-width: 0;overflow: hidden;text-align: left;background-color: #f0f8ff;}#sk-container-id-1 div.sk-toggleable__content pre {margin: 0.2em;color: black;border-radius: 0.25em;background-color: #f0f8ff;}#sk-container-id-1 input.sk-toggleable__control:checked~div.sk-toggleable__content {max-height: 200px;max-width: 100%;overflow: auto;}#sk-container-id-1 input.sk-toggleable__control:checked~label.sk-toggleable__label-arrow:before {content: \"▾\";}#sk-container-id-1 div.sk-estimator input.sk-toggleable__control:checked~label.sk-toggleable__label {background-color: #d4ebff;}#sk-container-id-1 div.sk-label input.sk-toggleable__control:checked~label.sk-toggleable__label {background-color: #d4ebff;}#sk-container-id-1 input.sk-hidden--visually {border: 0;clip: rect(1px 1px 1px 1px);clip: rect(1px, 1px, 1px, 1px);height: 1px;margin: -1px;overflow: hidden;padding: 0;position: absolute;width: 1px;}#sk-container-id-1 div.sk-estimator {font-family: monospace;background-color: #f0f8ff;border: 1px dotted black;border-radius: 0.25em;box-sizing: border-box;margin-bottom: 0.5em;}#sk-container-id-1 div.sk-estimator:hover {background-color: #d4ebff;}#sk-container-id-1 div.sk-parallel-item::after {content: \"\";width: 100%;border-bottom: 1px solid gray;flex-grow: 1;}#sk-container-id-1 div.sk-label:hover label.sk-toggleable__label {background-color: #d4ebff;}#sk-container-id-1 div.sk-serial::before {content: \"\";position: absolute;border-left: 1px solid gray;box-sizing: border-box;top: 0;bottom: 0;left: 50%;z-index: 0;}#sk-container-id-1 div.sk-serial {display: flex;flex-direction: column;align-items: center;background-color: white;padding-right: 0.2em;padding-left: 0.2em;position: relative;}#sk-container-id-1 div.sk-item {position: relative;z-index: 1;}#sk-container-id-1 div.sk-parallel {display: flex;align-items: stretch;justify-content: center;background-color: white;position: relative;}#sk-container-id-1 div.sk-item::before, #sk-container-id-1 div.sk-parallel-item::before {content: \"\";position: absolute;border-left: 1px solid gray;box-sizing: border-box;top: 0;bottom: 0;left: 50%;z-index: -1;}#sk-container-id-1 div.sk-parallel-item {display: flex;flex-direction: column;z-index: 1;position: relative;background-color: white;}#sk-container-id-1 div.sk-parallel-item:first-child::after {align-self: flex-end;width: 50%;}#sk-container-id-1 div.sk-parallel-item:last-child::after {align-self: flex-start;width: 50%;}#sk-container-id-1 div.sk-parallel-item:only-child::after {width: 0;}#sk-container-id-1 div.sk-dashed-wrapped {border: 1px dashed gray;margin: 0 0.4em 0.5em 0.4em;box-sizing: border-box;padding-bottom: 0.4em;background-color: white;}#sk-container-id-1 div.sk-label label {font-family: monospace;font-weight: bold;display: inline-block;line-height: 1.2em;}#sk-container-id-1 div.sk-label-container {text-align: center;}#sk-container-id-1 div.sk-container {/* jupyter's `normalize.less` sets `[hidden] { display: none; }` but bootstrap.min.css set `[hidden] { display: none !important; }` so we also need the `!important` here to be able to override the default hidden behavior on the sphinx rendered scikit-learn.org. See: https://github.com/scikit-learn/scikit-learn/issues/21755 */display: inline-block !important;position: relative;}#sk-container-id-1 div.sk-text-repr-fallback {display: none;}</style><div id=\"sk-container-id-1\" class=\"sk-top-container\"><div class=\"sk-text-repr-fallback\"><pre>RandomForestClassifier(random_state=10)</pre><b>In a Jupyter environment, please rerun this cell to show the HTML representation or trust the notebook. <br />On GitHub, the HTML representation is unable to render, please try loading this page with nbviewer.org.</b></div><div class=\"sk-container\" hidden><div class=\"sk-item\"><div class=\"sk-estimator sk-toggleable\"><input class=\"sk-toggleable__control sk-hidden--visually\" id=\"sk-estimator-id-1\" type=\"checkbox\" checked><label for=\"sk-estimator-id-1\" class=\"sk-toggleable__label sk-toggleable__label-arrow\">RandomForestClassifier</label><div class=\"sk-toggleable__content\"><pre>RandomForestClassifier(random_state=10)</pre></div></div></div></div></div>"
      ],
      "text/plain": [
       "RandomForestClassifier(random_state=10)"
      ]
     },
     "execution_count": 19,
     "metadata": {},
     "output_type": "execute_result"
    }
   ],
   "source": [
    "from sklearn.ensemble import RandomForestClassifier\n",
    "random_forest_model = RandomForestClassifier(random_state=10)\n",
    "\n",
    "random_forest_model.fit(X_train, y_train.ravel())"
   ]
  },
  {
   "cell_type": "code",
   "execution_count": 20,
   "metadata": {},
   "outputs": [
    {
     "name": "stdout",
     "output_type": "stream",
     "text": [
      "Accuracy = 0.805\n"
     ]
    }
   ],
   "source": [
    "predict_train_data = random_forest_model.predict(X_test)\n",
    "\n",
    "from sklearn import metrics\n",
    "\n",
    "print(\"Accuracy = {0:.3f}\".format(metrics.accuracy_score(y_test, predict_train_data)))"
   ]
  },
  {
   "cell_type": "code",
   "execution_count": 21,
   "metadata": {},
   "outputs": [
    {
     "name": "stdout",
     "output_type": "stream",
     "text": [
      "[[-0.8354355  -0.18549586  0.03960159  0.58457246  0.11808927  0.3026523\n",
      "   0.18781421 -2.2150278 ]]\n",
      "The person is Non-Diabetic\n"
     ]
    },
    {
     "name": "stderr",
     "output_type": "stream",
     "text": [
      "c:\\Users\\05paw\\AppData\\Local\\Programs\\Python\\Python311\\Lib\\site-packages\\sklearn\\base.py:439: UserWarning: X does not have valid feature names, but StandardScaler was fitted with feature names\n",
      "  warnings.warn(\n"
     ]
    }
   ],
   "source": [
    "input_data = (1,115,70,30,96,34.6,0.529,7)\n",
    "\n",
    "# changing to numpy array\n",
    "data_changed = np.asarray(input_data)\n",
    "\n",
    "# Reshaping as we are predicting for one instance only\n",
    "data_reshaped = data_changed.reshape(1,-1)\n",
    "\n",
    "#standarising the input data\n",
    "std_data = sc.transform(data_reshaped)\n",
    "print(std_data)\n",
    "\n",
    "#predicting output \n",
    "prediction = random_forest_model.predict(std_data)\n",
    "if prediction == 1:\n",
    "  print('The person is Diabetic')\n",
    "else:\n",
    "  print('The person is Non-Diabetic')"
   ]
  },
  {
   "cell_type": "code",
   "execution_count": 22,
   "metadata": {},
   "outputs": [
    {
     "data": {
      "text/html": [
       "<style>#sk-container-id-2 {color: black;background-color: white;}#sk-container-id-2 pre{padding: 0;}#sk-container-id-2 div.sk-toggleable {background-color: white;}#sk-container-id-2 label.sk-toggleable__label {cursor: pointer;display: block;width: 100%;margin-bottom: 0;padding: 0.3em;box-sizing: border-box;text-align: center;}#sk-container-id-2 label.sk-toggleable__label-arrow:before {content: \"▸\";float: left;margin-right: 0.25em;color: #696969;}#sk-container-id-2 label.sk-toggleable__label-arrow:hover:before {color: black;}#sk-container-id-2 div.sk-estimator:hover label.sk-toggleable__label-arrow:before {color: black;}#sk-container-id-2 div.sk-toggleable__content {max-height: 0;max-width: 0;overflow: hidden;text-align: left;background-color: #f0f8ff;}#sk-container-id-2 div.sk-toggleable__content pre {margin: 0.2em;color: black;border-radius: 0.25em;background-color: #f0f8ff;}#sk-container-id-2 input.sk-toggleable__control:checked~div.sk-toggleable__content {max-height: 200px;max-width: 100%;overflow: auto;}#sk-container-id-2 input.sk-toggleable__control:checked~label.sk-toggleable__label-arrow:before {content: \"▾\";}#sk-container-id-2 div.sk-estimator input.sk-toggleable__control:checked~label.sk-toggleable__label {background-color: #d4ebff;}#sk-container-id-2 div.sk-label input.sk-toggleable__control:checked~label.sk-toggleable__label {background-color: #d4ebff;}#sk-container-id-2 input.sk-hidden--visually {border: 0;clip: rect(1px 1px 1px 1px);clip: rect(1px, 1px, 1px, 1px);height: 1px;margin: -1px;overflow: hidden;padding: 0;position: absolute;width: 1px;}#sk-container-id-2 div.sk-estimator {font-family: monospace;background-color: #f0f8ff;border: 1px dotted black;border-radius: 0.25em;box-sizing: border-box;margin-bottom: 0.5em;}#sk-container-id-2 div.sk-estimator:hover {background-color: #d4ebff;}#sk-container-id-2 div.sk-parallel-item::after {content: \"\";width: 100%;border-bottom: 1px solid gray;flex-grow: 1;}#sk-container-id-2 div.sk-label:hover label.sk-toggleable__label {background-color: #d4ebff;}#sk-container-id-2 div.sk-serial::before {content: \"\";position: absolute;border-left: 1px solid gray;box-sizing: border-box;top: 0;bottom: 0;left: 50%;z-index: 0;}#sk-container-id-2 div.sk-serial {display: flex;flex-direction: column;align-items: center;background-color: white;padding-right: 0.2em;padding-left: 0.2em;position: relative;}#sk-container-id-2 div.sk-item {position: relative;z-index: 1;}#sk-container-id-2 div.sk-parallel {display: flex;align-items: stretch;justify-content: center;background-color: white;position: relative;}#sk-container-id-2 div.sk-item::before, #sk-container-id-2 div.sk-parallel-item::before {content: \"\";position: absolute;border-left: 1px solid gray;box-sizing: border-box;top: 0;bottom: 0;left: 50%;z-index: -1;}#sk-container-id-2 div.sk-parallel-item {display: flex;flex-direction: column;z-index: 1;position: relative;background-color: white;}#sk-container-id-2 div.sk-parallel-item:first-child::after {align-self: flex-end;width: 50%;}#sk-container-id-2 div.sk-parallel-item:last-child::after {align-self: flex-start;width: 50%;}#sk-container-id-2 div.sk-parallel-item:only-child::after {width: 0;}#sk-container-id-2 div.sk-dashed-wrapped {border: 1px dashed gray;margin: 0 0.4em 0.5em 0.4em;box-sizing: border-box;padding-bottom: 0.4em;background-color: white;}#sk-container-id-2 div.sk-label label {font-family: monospace;font-weight: bold;display: inline-block;line-height: 1.2em;}#sk-container-id-2 div.sk-label-container {text-align: center;}#sk-container-id-2 div.sk-container {/* jupyter's `normalize.less` sets `[hidden] { display: none; }` but bootstrap.min.css set `[hidden] { display: none !important; }` so we also need the `!important` here to be able to override the default hidden behavior on the sphinx rendered scikit-learn.org. See: https://github.com/scikit-learn/scikit-learn/issues/21755 */display: inline-block !important;position: relative;}#sk-container-id-2 div.sk-text-repr-fallback {display: none;}</style><div id=\"sk-container-id-2\" class=\"sk-top-container\"><div class=\"sk-text-repr-fallback\"><pre>LogisticRegression()</pre><b>In a Jupyter environment, please rerun this cell to show the HTML representation or trust the notebook. <br />On GitHub, the HTML representation is unable to render, please try loading this page with nbviewer.org.</b></div><div class=\"sk-container\" hidden><div class=\"sk-item\"><div class=\"sk-estimator sk-toggleable\"><input class=\"sk-toggleable__control sk-hidden--visually\" id=\"sk-estimator-id-2\" type=\"checkbox\" checked><label for=\"sk-estimator-id-2\" class=\"sk-toggleable__label sk-toggleable__label-arrow\">LogisticRegression</label><div class=\"sk-toggleable__content\"><pre>LogisticRegression()</pre></div></div></div></div></div>"
      ],
      "text/plain": [
       "LogisticRegression()"
      ]
     },
     "execution_count": 22,
     "metadata": {},
     "output_type": "execute_result"
    }
   ],
   "source": [
    "from sklearn.linear_model import LogisticRegression  \n",
    "logistic_regression_model= LogisticRegression()  \n",
    "logistic_regression_model.fit(X_train, y_train)  "
   ]
  },
  {
   "cell_type": "code",
   "execution_count": 23,
   "metadata": {},
   "outputs": [
    {
     "name": "stdout",
     "output_type": "stream",
     "text": [
      "Accuracy = 0.825\n"
     ]
    }
   ],
   "source": [
    "predict_train_data = logistic_regression_model.predict(X_test)\n",
    "\n",
    "from sklearn import metrics\n",
    "\n",
    "print(\"Accuracy = {0:.3f}\".format(metrics.accuracy_score(y_test, predict_train_data)))"
   ]
  },
  {
   "cell_type": "code",
   "execution_count": 24,
   "metadata": {},
   "outputs": [
    {
     "name": "stdout",
     "output_type": "stream",
     "text": [
      "[[-0.8354355  -1.50692331 -0.98420365 -0.66235299 -0.69965674 -1.16424852\n",
      "  -0.65620258 -1.04898095]]\n",
      "The person is Non-Diabetic\n"
     ]
    },
    {
     "name": "stderr",
     "output_type": "stream",
     "text": [
      "c:\\Users\\05paw\\AppData\\Local\\Programs\\Python\\Python311\\Lib\\site-packages\\sklearn\\base.py:439: UserWarning: X does not have valid feature names, but StandardScaler was fitted with feature names\n",
      "  warnings.warn(\n"
     ]
    }
   ],
   "source": [
    "input_data = (1,73,50,10,0,23,0.248,21)\n",
    "\n",
    "# changing to numpy array\n",
    "data_changed = np.asarray(input_data)\n",
    "\n",
    "# Reshaping as we are predicting for one instance only\n",
    "data_reshaped = data_changed.reshape(1,-1)\n",
    "\n",
    "#standarising the input data\n",
    "std_data = sc.transform(data_reshaped)\n",
    "print(std_data)\n",
    "\n",
    "#predicting output \n",
    "prediction = logistic_regression_model.predict(std_data)\n",
    "if prediction == 1:\n",
    "  print('The person is Diabetic')\n",
    "else:\n",
    "  print('The person is Non-Diabetic')"
   ]
  },
  {
   "cell_type": "code",
   "execution_count": 25,
   "metadata": {},
   "outputs": [],
   "source": [
    "from sklearn import svm\n",
    "svm_model = svm.SVC(kernel='linear')"
   ]
  },
  {
   "cell_type": "code",
   "execution_count": 26,
   "metadata": {},
   "outputs": [
    {
     "data": {
      "text/html": [
       "<style>#sk-container-id-3 {color: black;background-color: white;}#sk-container-id-3 pre{padding: 0;}#sk-container-id-3 div.sk-toggleable {background-color: white;}#sk-container-id-3 label.sk-toggleable__label {cursor: pointer;display: block;width: 100%;margin-bottom: 0;padding: 0.3em;box-sizing: border-box;text-align: center;}#sk-container-id-3 label.sk-toggleable__label-arrow:before {content: \"▸\";float: left;margin-right: 0.25em;color: #696969;}#sk-container-id-3 label.sk-toggleable__label-arrow:hover:before {color: black;}#sk-container-id-3 div.sk-estimator:hover label.sk-toggleable__label-arrow:before {color: black;}#sk-container-id-3 div.sk-toggleable__content {max-height: 0;max-width: 0;overflow: hidden;text-align: left;background-color: #f0f8ff;}#sk-container-id-3 div.sk-toggleable__content pre {margin: 0.2em;color: black;border-radius: 0.25em;background-color: #f0f8ff;}#sk-container-id-3 input.sk-toggleable__control:checked~div.sk-toggleable__content {max-height: 200px;max-width: 100%;overflow: auto;}#sk-container-id-3 input.sk-toggleable__control:checked~label.sk-toggleable__label-arrow:before {content: \"▾\";}#sk-container-id-3 div.sk-estimator input.sk-toggleable__control:checked~label.sk-toggleable__label {background-color: #d4ebff;}#sk-container-id-3 div.sk-label input.sk-toggleable__control:checked~label.sk-toggleable__label {background-color: #d4ebff;}#sk-container-id-3 input.sk-hidden--visually {border: 0;clip: rect(1px 1px 1px 1px);clip: rect(1px, 1px, 1px, 1px);height: 1px;margin: -1px;overflow: hidden;padding: 0;position: absolute;width: 1px;}#sk-container-id-3 div.sk-estimator {font-family: monospace;background-color: #f0f8ff;border: 1px dotted black;border-radius: 0.25em;box-sizing: border-box;margin-bottom: 0.5em;}#sk-container-id-3 div.sk-estimator:hover {background-color: #d4ebff;}#sk-container-id-3 div.sk-parallel-item::after {content: \"\";width: 100%;border-bottom: 1px solid gray;flex-grow: 1;}#sk-container-id-3 div.sk-label:hover label.sk-toggleable__label {background-color: #d4ebff;}#sk-container-id-3 div.sk-serial::before {content: \"\";position: absolute;border-left: 1px solid gray;box-sizing: border-box;top: 0;bottom: 0;left: 50%;z-index: 0;}#sk-container-id-3 div.sk-serial {display: flex;flex-direction: column;align-items: center;background-color: white;padding-right: 0.2em;padding-left: 0.2em;position: relative;}#sk-container-id-3 div.sk-item {position: relative;z-index: 1;}#sk-container-id-3 div.sk-parallel {display: flex;align-items: stretch;justify-content: center;background-color: white;position: relative;}#sk-container-id-3 div.sk-item::before, #sk-container-id-3 div.sk-parallel-item::before {content: \"\";position: absolute;border-left: 1px solid gray;box-sizing: border-box;top: 0;bottom: 0;left: 50%;z-index: -1;}#sk-container-id-3 div.sk-parallel-item {display: flex;flex-direction: column;z-index: 1;position: relative;background-color: white;}#sk-container-id-3 div.sk-parallel-item:first-child::after {align-self: flex-end;width: 50%;}#sk-container-id-3 div.sk-parallel-item:last-child::after {align-self: flex-start;width: 50%;}#sk-container-id-3 div.sk-parallel-item:only-child::after {width: 0;}#sk-container-id-3 div.sk-dashed-wrapped {border: 1px dashed gray;margin: 0 0.4em 0.5em 0.4em;box-sizing: border-box;padding-bottom: 0.4em;background-color: white;}#sk-container-id-3 div.sk-label label {font-family: monospace;font-weight: bold;display: inline-block;line-height: 1.2em;}#sk-container-id-3 div.sk-label-container {text-align: center;}#sk-container-id-3 div.sk-container {/* jupyter's `normalize.less` sets `[hidden] { display: none; }` but bootstrap.min.css set `[hidden] { display: none !important; }` so we also need the `!important` here to be able to override the default hidden behavior on the sphinx rendered scikit-learn.org. See: https://github.com/scikit-learn/scikit-learn/issues/21755 */display: inline-block !important;position: relative;}#sk-container-id-3 div.sk-text-repr-fallback {display: none;}</style><div id=\"sk-container-id-3\" class=\"sk-top-container\"><div class=\"sk-text-repr-fallback\"><pre>SVC(kernel=&#x27;linear&#x27;)</pre><b>In a Jupyter environment, please rerun this cell to show the HTML representation or trust the notebook. <br />On GitHub, the HTML representation is unable to render, please try loading this page with nbviewer.org.</b></div><div class=\"sk-container\" hidden><div class=\"sk-item\"><div class=\"sk-estimator sk-toggleable\"><input class=\"sk-toggleable__control sk-hidden--visually\" id=\"sk-estimator-id-3\" type=\"checkbox\" checked><label for=\"sk-estimator-id-3\" class=\"sk-toggleable__label sk-toggleable__label-arrow\">SVC</label><div class=\"sk-toggleable__content\"><pre>SVC(kernel=&#x27;linear&#x27;)</pre></div></div></div></div></div>"
      ],
      "text/plain": [
       "SVC(kernel='linear')"
      ]
     },
     "execution_count": 26,
     "metadata": {},
     "output_type": "execute_result"
    }
   ],
   "source": [
    "svm_model.fit(X_train, y_train)"
   ]
  },
  {
   "cell_type": "code",
   "execution_count": 27,
   "metadata": {},
   "outputs": [
    {
     "name": "stdout",
     "output_type": "stream",
     "text": [
      "Accuracy = 0.825\n"
     ]
    }
   ],
   "source": [
    "predict_train_data = svm_model.predict(X_test)\n",
    "\n",
    "from sklearn import metrics\n",
    "\n",
    "print(\"Accuracy = {0:.3f}\".format(metrics.accuracy_score(y_test, predict_train_data)))"
   ]
  },
  {
   "cell_type": "code",
   "execution_count": 43,
   "metadata": {},
   "outputs": [
    {
     "name": "stdout",
     "output_type": "stream",
     "text": [
      "[[-0.8354355  -1.50692331 -0.98420365 -0.66235299 -0.69965674 -1.16424852\n",
      "  -0.65620258 -1.04898095]]\n",
      "The person is Non-Diabetic\n"
     ]
    },
    {
     "name": "stderr",
     "output_type": "stream",
     "text": [
      "c:\\Users\\05paw\\AppData\\Local\\Programs\\Python\\Python311\\Lib\\site-packages\\sklearn\\base.py:439: UserWarning: X does not have valid feature names, but StandardScaler was fitted with feature names\n",
      "  warnings.warn(\n"
     ]
    }
   ],
   "source": [
    "input_data = (1,73,50,10,0,23,0.248,21)\n",
    "#0=1,73,50,10,0,23,0.248,21\n",
    "#1=7,187,68,39,304,37.7,0.254,41\n",
    "# changing to numpy array\n",
    "data_changed = np.asarray(input_data)\n",
    "\n",
    "# Reshaping as we are predicting for one instance only\n",
    "data_reshaped = data_changed.reshape(1,-1)\n",
    "\n",
    "#standarising the input data\n",
    "std_data = sc.transform(data_reshaped)\n",
    "print(std_data)\n",
    "\n",
    "#predicting output \n",
    "prediction = svm_model.predict(std_data)\n",
    "if prediction == 1:\n",
    "  print('The person is Diabetic')\n",
    "else:\n",
    "  print('The person is Non-Diabetic')"
   ]
  },
  {
   "cell_type": "code",
   "execution_count": 29,
   "metadata": {},
   "outputs": [],
   "source": [
    "import keras\n",
    "from keras.models import Sequential\n",
    "from keras.layers import Dense\n",
    "#from keras.layers import LeakyReLU,PReLU,ELU\n",
    "from keras.layers import Dropout"
   ]
  },
  {
   "cell_type": "code",
   "execution_count": 30,
   "metadata": {},
   "outputs": [],
   "source": [
    "classifier = Sequential()"
   ]
  },
  {
   "cell_type": "code",
   "execution_count": 31,
   "metadata": {},
   "outputs": [],
   "source": [
    "# Adding the input layer and the first hidden layer\n",
    "classifier.add(Dense(units = 5, kernel_initializer =  'he_uniform',activation='relu',input_dim = 8))\n",
    "# Adding the second hidden layer\n",
    "classifier.add(Dense(units =5, kernel_initializer = 'he_uniform',activation='relu'))\n",
    "# Adding the output layer\n",
    "classifier.add(Dense(units = 1, kernel_initializer = 'glorot_uniform', activation = 'sigmoid'))\n",
    "\n",
    "# Compiling the ANN\n",
    "classifier.compile(optimizer = 'Adam', loss = 'binary_crossentropy', metrics = ['accuracy'])"
   ]
  },
  {
   "cell_type": "code",
   "execution_count": 32,
   "metadata": {},
   "outputs": [
    {
     "name": "stdout",
     "output_type": "stream",
     "text": [
      "Epoch 1/100\n",
      "42/42 [==============================] - 1s 6ms/step - loss: 0.7138 - accuracy: 0.6277 - val_loss: 0.6945 - val_accuracy: 0.6650\n",
      "Epoch 2/100\n",
      "42/42 [==============================] - 0s 2ms/step - loss: 0.7004 - accuracy: 0.6277 - val_loss: 0.6807 - val_accuracy: 0.6650\n",
      "Epoch 3/100\n",
      "42/42 [==============================] - 0s 2ms/step - loss: 0.6875 - accuracy: 0.6277 - val_loss: 0.6685 - val_accuracy: 0.6650\n",
      "Epoch 4/100\n",
      "42/42 [==============================] - 0s 2ms/step - loss: 0.6753 - accuracy: 0.6277 - val_loss: 0.6563 - val_accuracy: 0.6650\n",
      "Epoch 5/100\n",
      "42/42 [==============================] - 0s 2ms/step - loss: 0.6629 - accuracy: 0.6277 - val_loss: 0.6457 - val_accuracy: 0.6650\n",
      "Epoch 6/100\n",
      "42/42 [==============================] - 0s 2ms/step - loss: 0.6515 - accuracy: 0.6277 - val_loss: 0.6351 - val_accuracy: 0.6650\n",
      "Epoch 7/100\n",
      "42/42 [==============================] - 0s 2ms/step - loss: 0.6411 - accuracy: 0.6277 - val_loss: 0.6267 - val_accuracy: 0.6650\n",
      "Epoch 8/100\n",
      "42/42 [==============================] - 0s 2ms/step - loss: 0.6326 - accuracy: 0.6277 - val_loss: 0.6204 - val_accuracy: 0.6650\n",
      "Epoch 9/100\n",
      "42/42 [==============================] - 0s 2ms/step - loss: 0.6241 - accuracy: 0.6277 - val_loss: 0.6127 - val_accuracy: 0.6650\n",
      "Epoch 10/100\n",
      "42/42 [==============================] - 0s 2ms/step - loss: 0.6147 - accuracy: 0.6277 - val_loss: 0.6051 - val_accuracy: 0.6650\n",
      "Epoch 11/100\n",
      "42/42 [==============================] - 0s 2ms/step - loss: 0.6054 - accuracy: 0.6277 - val_loss: 0.5970 - val_accuracy: 0.6650\n",
      "Epoch 12/100\n",
      "42/42 [==============================] - 0s 2ms/step - loss: 0.5970 - accuracy: 0.6277 - val_loss: 0.5904 - val_accuracy: 0.6650\n",
      "Epoch 13/100\n",
      "42/42 [==============================] - 0s 2ms/step - loss: 0.5890 - accuracy: 0.6277 - val_loss: 0.5835 - val_accuracy: 0.6650\n",
      "Epoch 14/100\n",
      "42/42 [==============================] - 0s 2ms/step - loss: 0.5812 - accuracy: 0.6277 - val_loss: 0.5775 - val_accuracy: 0.6650\n",
      "Epoch 15/100\n",
      "42/42 [==============================] - 0s 2ms/step - loss: 0.5738 - accuracy: 0.6277 - val_loss: 0.5721 - val_accuracy: 0.6650\n",
      "Epoch 16/100\n",
      "42/42 [==============================] - 0s 2ms/step - loss: 0.5673 - accuracy: 0.6277 - val_loss: 0.5680 - val_accuracy: 0.6650\n",
      "Epoch 17/100\n",
      "42/42 [==============================] - 0s 2ms/step - loss: 0.5621 - accuracy: 0.6277 - val_loss: 0.5642 - val_accuracy: 0.6650\n",
      "Epoch 18/100\n",
      "42/42 [==============================] - 0s 2ms/step - loss: 0.5574 - accuracy: 0.6277 - val_loss: 0.5609 - val_accuracy: 0.6650\n",
      "Epoch 19/100\n",
      "42/42 [==============================] - 0s 2ms/step - loss: 0.5530 - accuracy: 0.6326 - val_loss: 0.5575 - val_accuracy: 0.6847\n",
      "Epoch 20/100\n",
      "42/42 [==============================] - 0s 2ms/step - loss: 0.5490 - accuracy: 0.6545 - val_loss: 0.5543 - val_accuracy: 0.6897\n",
      "Epoch 21/100\n",
      "42/42 [==============================] - 0s 2ms/step - loss: 0.5451 - accuracy: 0.6788 - val_loss: 0.5519 - val_accuracy: 0.6897\n",
      "Epoch 22/100\n",
      "42/42 [==============================] - 0s 2ms/step - loss: 0.5412 - accuracy: 0.7032 - val_loss: 0.5484 - val_accuracy: 0.6897\n",
      "Epoch 23/100\n",
      "42/42 [==============================] - 0s 2ms/step - loss: 0.5372 - accuracy: 0.7032 - val_loss: 0.5449 - val_accuracy: 0.7094\n",
      "Epoch 24/100\n",
      "42/42 [==============================] - 0s 2ms/step - loss: 0.5333 - accuracy: 0.7105 - val_loss: 0.5426 - val_accuracy: 0.7143\n",
      "Epoch 25/100\n",
      "42/42 [==============================] - 0s 2ms/step - loss: 0.5296 - accuracy: 0.7299 - val_loss: 0.5405 - val_accuracy: 0.7044\n",
      "Epoch 26/100\n",
      "42/42 [==============================] - 0s 2ms/step - loss: 0.5266 - accuracy: 0.7543 - val_loss: 0.5393 - val_accuracy: 0.7044\n",
      "Epoch 27/100\n",
      "42/42 [==============================] - 0s 2ms/step - loss: 0.5247 - accuracy: 0.7567 - val_loss: 0.5377 - val_accuracy: 0.7192\n",
      "Epoch 28/100\n",
      "42/42 [==============================] - 0s 2ms/step - loss: 0.5216 - accuracy: 0.7591 - val_loss: 0.5365 - val_accuracy: 0.7291\n",
      "Epoch 29/100\n",
      "42/42 [==============================] - 0s 2ms/step - loss: 0.5188 - accuracy: 0.7640 - val_loss: 0.5352 - val_accuracy: 0.7291\n",
      "Epoch 30/100\n",
      "42/42 [==============================] - 0s 2ms/step - loss: 0.5165 - accuracy: 0.7689 - val_loss: 0.5341 - val_accuracy: 0.7340\n",
      "Epoch 31/100\n",
      "42/42 [==============================] - 0s 2ms/step - loss: 0.5141 - accuracy: 0.7689 - val_loss: 0.5332 - val_accuracy: 0.7291\n",
      "Epoch 32/100\n",
      "42/42 [==============================] - 0s 2ms/step - loss: 0.5122 - accuracy: 0.7689 - val_loss: 0.5319 - val_accuracy: 0.7192\n",
      "Epoch 33/100\n",
      "42/42 [==============================] - 0s 2ms/step - loss: 0.5104 - accuracy: 0.7737 - val_loss: 0.5310 - val_accuracy: 0.7291\n",
      "Epoch 34/100\n",
      "42/42 [==============================] - 0s 2ms/step - loss: 0.5086 - accuracy: 0.7762 - val_loss: 0.5305 - val_accuracy: 0.7192\n",
      "Epoch 35/100\n",
      "42/42 [==============================] - 0s 2ms/step - loss: 0.5071 - accuracy: 0.7737 - val_loss: 0.5301 - val_accuracy: 0.7291\n",
      "Epoch 36/100\n",
      "42/42 [==============================] - 0s 2ms/step - loss: 0.5055 - accuracy: 0.7737 - val_loss: 0.5295 - val_accuracy: 0.7291\n",
      "Epoch 37/100\n",
      "42/42 [==============================] - 0s 2ms/step - loss: 0.5040 - accuracy: 0.7737 - val_loss: 0.5294 - val_accuracy: 0.7340\n",
      "Epoch 38/100\n",
      "42/42 [==============================] - 0s 2ms/step - loss: 0.5021 - accuracy: 0.7762 - val_loss: 0.5290 - val_accuracy: 0.7389\n",
      "Epoch 39/100\n",
      "42/42 [==============================] - 0s 2ms/step - loss: 0.5005 - accuracy: 0.7762 - val_loss: 0.5291 - val_accuracy: 0.7488\n",
      "Epoch 40/100\n",
      "42/42 [==============================] - 0s 2ms/step - loss: 0.4990 - accuracy: 0.7762 - val_loss: 0.5284 - val_accuracy: 0.7488\n",
      "Epoch 41/100\n",
      "42/42 [==============================] - 0s 2ms/step - loss: 0.4974 - accuracy: 0.7786 - val_loss: 0.5282 - val_accuracy: 0.7488\n",
      "Epoch 42/100\n",
      "42/42 [==============================] - 0s 2ms/step - loss: 0.4960 - accuracy: 0.7640 - val_loss: 0.5277 - val_accuracy: 0.7586\n",
      "Epoch 43/100\n",
      "42/42 [==============================] - 0s 2ms/step - loss: 0.4947 - accuracy: 0.7786 - val_loss: 0.5278 - val_accuracy: 0.7537\n",
      "Epoch 44/100\n",
      "42/42 [==============================] - 0s 2ms/step - loss: 0.4933 - accuracy: 0.7567 - val_loss: 0.5273 - val_accuracy: 0.7488\n",
      "Epoch 45/100\n",
      "42/42 [==============================] - 0s 2ms/step - loss: 0.4922 - accuracy: 0.7518 - val_loss: 0.5266 - val_accuracy: 0.7488\n",
      "Epoch 46/100\n",
      "42/42 [==============================] - 0s 2ms/step - loss: 0.4910 - accuracy: 0.7543 - val_loss: 0.5265 - val_accuracy: 0.7488\n",
      "Epoch 47/100\n",
      "42/42 [==============================] - 0s 2ms/step - loss: 0.4900 - accuracy: 0.7543 - val_loss: 0.5260 - val_accuracy: 0.7488\n",
      "Epoch 48/100\n",
      "42/42 [==============================] - 0s 2ms/step - loss: 0.4888 - accuracy: 0.7591 - val_loss: 0.5251 - val_accuracy: 0.7488\n",
      "Epoch 49/100\n",
      "42/42 [==============================] - 0s 2ms/step - loss: 0.4880 - accuracy: 0.7567 - val_loss: 0.5246 - val_accuracy: 0.7488\n",
      "Epoch 50/100\n",
      "42/42 [==============================] - 0s 2ms/step - loss: 0.4873 - accuracy: 0.7543 - val_loss: 0.5246 - val_accuracy: 0.7488\n",
      "Epoch 51/100\n",
      "42/42 [==============================] - 0s 2ms/step - loss: 0.4862 - accuracy: 0.7543 - val_loss: 0.5245 - val_accuracy: 0.7488\n",
      "Epoch 52/100\n",
      "42/42 [==============================] - 0s 2ms/step - loss: 0.4854 - accuracy: 0.7567 - val_loss: 0.5245 - val_accuracy: 0.7488\n",
      "Epoch 53/100\n",
      "42/42 [==============================] - 0s 2ms/step - loss: 0.4845 - accuracy: 0.7567 - val_loss: 0.5241 - val_accuracy: 0.7438\n",
      "Epoch 54/100\n",
      "42/42 [==============================] - 0s 2ms/step - loss: 0.4838 - accuracy: 0.7616 - val_loss: 0.5242 - val_accuracy: 0.7488\n",
      "Epoch 55/100\n",
      "42/42 [==============================] - 0s 3ms/step - loss: 0.4834 - accuracy: 0.7567 - val_loss: 0.5256 - val_accuracy: 0.7488\n",
      "Epoch 56/100\n",
      "42/42 [==============================] - 0s 2ms/step - loss: 0.4817 - accuracy: 0.7591 - val_loss: 0.5256 - val_accuracy: 0.7488\n",
      "Epoch 57/100\n",
      "42/42 [==============================] - 0s 2ms/step - loss: 0.4813 - accuracy: 0.7616 - val_loss: 0.5249 - val_accuracy: 0.7488\n",
      "Epoch 58/100\n",
      "42/42 [==============================] - 0s 2ms/step - loss: 0.4801 - accuracy: 0.7640 - val_loss: 0.5245 - val_accuracy: 0.7488\n",
      "Epoch 59/100\n",
      "42/42 [==============================] - 0s 2ms/step - loss: 0.4793 - accuracy: 0.7640 - val_loss: 0.5247 - val_accuracy: 0.7438\n",
      "Epoch 60/100\n",
      "42/42 [==============================] - 0s 2ms/step - loss: 0.4787 - accuracy: 0.7908 - val_loss: 0.5244 - val_accuracy: 0.7685\n",
      "Epoch 61/100\n",
      "42/42 [==============================] - 0s 2ms/step - loss: 0.4779 - accuracy: 0.7883 - val_loss: 0.5246 - val_accuracy: 0.7685\n",
      "Epoch 62/100\n",
      "42/42 [==============================] - 0s 2ms/step - loss: 0.4772 - accuracy: 0.7859 - val_loss: 0.5249 - val_accuracy: 0.7635\n",
      "Epoch 63/100\n",
      "42/42 [==============================] - 0s 2ms/step - loss: 0.4767 - accuracy: 0.7859 - val_loss: 0.5252 - val_accuracy: 0.7685\n",
      "Epoch 64/100\n",
      "42/42 [==============================] - 0s 2ms/step - loss: 0.4758 - accuracy: 0.7859 - val_loss: 0.5249 - val_accuracy: 0.7685\n",
      "Epoch 65/100\n",
      "42/42 [==============================] - 0s 2ms/step - loss: 0.4754 - accuracy: 0.7883 - val_loss: 0.5255 - val_accuracy: 0.7685\n",
      "Epoch 66/100\n",
      "42/42 [==============================] - 0s 2ms/step - loss: 0.4745 - accuracy: 0.7981 - val_loss: 0.5241 - val_accuracy: 0.7635\n",
      "Epoch 67/100\n",
      "42/42 [==============================] - 0s 2ms/step - loss: 0.4734 - accuracy: 0.7956 - val_loss: 0.5242 - val_accuracy: 0.7635\n",
      "Epoch 68/100\n",
      "42/42 [==============================] - 0s 2ms/step - loss: 0.4729 - accuracy: 0.7932 - val_loss: 0.5249 - val_accuracy: 0.7685\n",
      "Epoch 69/100\n",
      "42/42 [==============================] - 0s 2ms/step - loss: 0.4721 - accuracy: 0.7956 - val_loss: 0.5250 - val_accuracy: 0.7685\n",
      "Epoch 70/100\n",
      "42/42 [==============================] - 0s 2ms/step - loss: 0.4716 - accuracy: 0.7956 - val_loss: 0.5254 - val_accuracy: 0.7685\n",
      "Epoch 71/100\n",
      "42/42 [==============================] - 0s 2ms/step - loss: 0.4703 - accuracy: 0.7956 - val_loss: 0.5252 - val_accuracy: 0.7685\n",
      "Epoch 72/100\n",
      "42/42 [==============================] - 0s 2ms/step - loss: 0.4693 - accuracy: 0.7932 - val_loss: 0.5247 - val_accuracy: 0.7635\n",
      "Epoch 73/100\n",
      "42/42 [==============================] - 0s 2ms/step - loss: 0.4683 - accuracy: 0.7956 - val_loss: 0.5255 - val_accuracy: 0.7635\n",
      "Epoch 74/100\n",
      "42/42 [==============================] - 0s 2ms/step - loss: 0.4677 - accuracy: 0.8005 - val_loss: 0.5259 - val_accuracy: 0.7635\n",
      "Epoch 75/100\n",
      "42/42 [==============================] - 0s 2ms/step - loss: 0.4668 - accuracy: 0.7956 - val_loss: 0.5258 - val_accuracy: 0.7635\n",
      "Epoch 76/100\n",
      "42/42 [==============================] - 0s 2ms/step - loss: 0.4662 - accuracy: 0.7932 - val_loss: 0.5259 - val_accuracy: 0.7635\n",
      "Epoch 77/100\n",
      "42/42 [==============================] - 0s 2ms/step - loss: 0.4650 - accuracy: 0.7932 - val_loss: 0.5269 - val_accuracy: 0.7635\n",
      "Epoch 78/100\n",
      "42/42 [==============================] - 0s 2ms/step - loss: 0.4644 - accuracy: 0.7956 - val_loss: 0.5274 - val_accuracy: 0.7586\n",
      "Epoch 79/100\n",
      "42/42 [==============================] - 0s 2ms/step - loss: 0.4639 - accuracy: 0.7932 - val_loss: 0.5268 - val_accuracy: 0.7635\n",
      "Epoch 80/100\n",
      "42/42 [==============================] - 0s 2ms/step - loss: 0.4634 - accuracy: 0.8005 - val_loss: 0.5283 - val_accuracy: 0.7586\n",
      "Epoch 81/100\n",
      "42/42 [==============================] - 0s 2ms/step - loss: 0.4617 - accuracy: 0.7981 - val_loss: 0.5282 - val_accuracy: 0.7537\n",
      "Epoch 82/100\n",
      "42/42 [==============================] - 0s 2ms/step - loss: 0.4612 - accuracy: 0.7956 - val_loss: 0.5280 - val_accuracy: 0.7537\n",
      "Epoch 83/100\n",
      "42/42 [==============================] - 0s 2ms/step - loss: 0.4607 - accuracy: 0.7956 - val_loss: 0.5285 - val_accuracy: 0.7537\n",
      "Epoch 84/100\n",
      "42/42 [==============================] - 0s 2ms/step - loss: 0.4598 - accuracy: 0.7956 - val_loss: 0.5284 - val_accuracy: 0.7537\n",
      "Epoch 85/100\n",
      "42/42 [==============================] - 0s 2ms/step - loss: 0.4589 - accuracy: 0.7956 - val_loss: 0.5287 - val_accuracy: 0.7488\n",
      "Epoch 86/100\n",
      "42/42 [==============================] - 0s 2ms/step - loss: 0.4581 - accuracy: 0.7956 - val_loss: 0.5286 - val_accuracy: 0.7488\n",
      "Epoch 87/100\n",
      "42/42 [==============================] - 0s 2ms/step - loss: 0.4581 - accuracy: 0.8005 - val_loss: 0.5294 - val_accuracy: 0.7488\n",
      "Epoch 88/100\n",
      "42/42 [==============================] - 0s 2ms/step - loss: 0.4566 - accuracy: 0.8029 - val_loss: 0.5290 - val_accuracy: 0.7438\n",
      "Epoch 89/100\n",
      "42/42 [==============================] - 0s 2ms/step - loss: 0.4557 - accuracy: 0.8005 - val_loss: 0.5286 - val_accuracy: 0.7488\n",
      "Epoch 90/100\n",
      "42/42 [==============================] - 0s 2ms/step - loss: 0.4554 - accuracy: 0.8054 - val_loss: 0.5291 - val_accuracy: 0.7488\n",
      "Epoch 91/100\n",
      "42/42 [==============================] - 0s 2ms/step - loss: 0.4542 - accuracy: 0.8029 - val_loss: 0.5290 - val_accuracy: 0.7537\n",
      "Epoch 92/100\n",
      "42/42 [==============================] - 0s 2ms/step - loss: 0.4538 - accuracy: 0.7956 - val_loss: 0.5283 - val_accuracy: 0.7488\n",
      "Epoch 93/100\n",
      "42/42 [==============================] - 0s 2ms/step - loss: 0.4526 - accuracy: 0.8054 - val_loss: 0.5281 - val_accuracy: 0.7537\n",
      "Epoch 94/100\n",
      "42/42 [==============================] - 0s 2ms/step - loss: 0.4518 - accuracy: 0.8005 - val_loss: 0.5280 - val_accuracy: 0.7537\n",
      "Epoch 95/100\n",
      "42/42 [==============================] - 0s 2ms/step - loss: 0.4516 - accuracy: 0.8029 - val_loss: 0.5289 - val_accuracy: 0.7488\n",
      "Epoch 96/100\n",
      "42/42 [==============================] - 0s 2ms/step - loss: 0.4508 - accuracy: 0.8005 - val_loss: 0.5280 - val_accuracy: 0.7537\n",
      "Epoch 97/100\n",
      "42/42 [==============================] - 0s 2ms/step - loss: 0.4500 - accuracy: 0.8005 - val_loss: 0.5282 - val_accuracy: 0.7488\n",
      "Epoch 98/100\n",
      "42/42 [==============================] - 0s 3ms/step - loss: 0.4491 - accuracy: 0.8029 - val_loss: 0.5285 - val_accuracy: 0.7488\n",
      "Epoch 99/100\n",
      "42/42 [==============================] - 0s 2ms/step - loss: 0.4490 - accuracy: 0.7981 - val_loss: 0.5269 - val_accuracy: 0.7488\n",
      "Epoch 100/100\n",
      "42/42 [==============================] - 0s 2ms/step - loss: 0.4489 - accuracy: 0.7981 - val_loss: 0.5284 - val_accuracy: 0.7488\n"
     ]
    }
   ],
   "source": [
    "model_history=classifier.fit(X_train, y_train,validation_split=0.33, batch_size = 10, epochs = 100)"
   ]
  },
  {
   "cell_type": "code",
   "execution_count": 33,
   "metadata": {},
   "outputs": [
    {
     "name": "stdout",
     "output_type": "stream",
     "text": [
      "dict_keys(['loss', 'accuracy', 'val_loss', 'val_accuracy'])\n"
     ]
    }
   ],
   "source": [
    "# list all data in history\n",
    "\n",
    "print(model_history.history.keys())"
   ]
  },
  {
   "cell_type": "code",
   "execution_count": 34,
   "metadata": {},
   "outputs": [
    {
     "data": {
      "image/png": "[encoded data removed]",
      "text/plain": [
       "<Figure size 640x480 with 1 Axes>"
      ]
     },
     "metadata": {},
     "output_type": "display_data"
    }
   ],
   "source": [
    "# summarize history for accuracy\n",
    "plt.plot(model_history.history['accuracy'])\n",
    "plt.plot(model_history.history['val_accuracy'])\n",
    "plt.title('model accuracy')\n",
    "plt.ylabel('accuracy')\n",
    "plt.xlabel('epoch')\n",
    "plt.legend(['train', 'test'], loc='upper left')\n",
    "plt.show()"
   ]
  },
  {
   "cell_type": "code",
   "execution_count": 35,
   "metadata": {},
   "outputs": [
    {
     "data": {
      "image/png": "[encoded data removed]",
      "text/plain": [
       "<Figure size 640x480 with 1 Axes>"
      ]
     },
     "metadata": {},
     "output_type": "display_data"
    }
   ],
   "source": [
    "# summarize history for loss\n",
    "plt.plot(model_history.history['loss'])\n",
    "plt.plot(model_history.history['val_loss'])\n",
    "plt.title('model loss')\n",
    "plt.ylabel('loss')\n",
    "plt.xlabel('epoch')\n",
    "plt.legend(['train', 'test'], loc='upper left')\n",
    "plt.show()"
   ]
  },
  {
   "cell_type": "code",
   "execution_count": 36,
   "metadata": {},
   "outputs": [
    {
     "name": "stdout",
     "output_type": "stream",
     "text": [
      "5/5 [==============================] - 0s 0s/step\n"
     ]
    },
    {
     "data": {
      "text/plain": [
       "array([[ True],\n",
       "       [False],\n",
       "       [False],\n",
       "       [ True],\n",
       "       [False],\n",
       "       [False],\n",
       "       [ True],\n",
       "       [ True],\n",
       "       [ True],\n",
       "       [False],\n",
       "       [ True],\n",
       "       [ True],\n",
       "       [False],\n",
       "       [False],\n",
       "       [False],\n",
       "       [False],\n",
       "       [ True],\n",
       "       [False],\n",
       "       [False],\n",
       "       [False],\n",
       "       [False],\n",
       "       [ True],\n",
       "       [False],\n",
       "       [False],\n",
       "       [False],\n",
       "       [False],\n",
       "       [False],\n",
       "       [ True],\n",
       "       [False],\n",
       "       [False],\n",
       "       [ True],\n",
       "       [False],\n",
       "       [False],\n",
       "       [ True],\n",
       "       [False],\n",
       "       [ True],\n",
       "       [ True],\n",
       "       [False],\n",
       "       [False],\n",
       "       [ True],\n",
       "       [False],\n",
       "       [False],\n",
       "       [False],\n",
       "       [ True],\n",
       "       [ True],\n",
       "       [False],\n",
       "       [False],\n",
       "       [False],\n",
       "       [ True],\n",
       "       [False],\n",
       "       [False],\n",
       "       [False],\n",
       "       [ True],\n",
       "       [False],\n",
       "       [False],\n",
       "       [False],\n",
       "       [False],\n",
       "       [ True],\n",
       "       [False],\n",
       "       [False],\n",
       "       [ True],\n",
       "       [ True],\n",
       "       [False],\n",
       "       [ True],\n",
       "       [False],\n",
       "       [ True],\n",
       "       [False],\n",
       "       [False],\n",
       "       [False],\n",
       "       [False],\n",
       "       [False],\n",
       "       [False],\n",
       "       [False],\n",
       "       [ True],\n",
       "       [ True],\n",
       "       [False],\n",
       "       [False],\n",
       "       [ True],\n",
       "       [False],\n",
       "       [False],\n",
       "       [False],\n",
       "       [False],\n",
       "       [False],\n",
       "       [False],\n",
       "       [False],\n",
       "       [ True],\n",
       "       [False],\n",
       "       [False],\n",
       "       [ True],\n",
       "       [False],\n",
       "       [False],\n",
       "       [False],\n",
       "       [False],\n",
       "       [False],\n",
       "       [False],\n",
       "       [False],\n",
       "       [ True],\n",
       "       [ True],\n",
       "       [ True],\n",
       "       [False],\n",
       "       [False],\n",
       "       [False],\n",
       "       [ True],\n",
       "       [False],\n",
       "       [ True],\n",
       "       [False],\n",
       "       [False],\n",
       "       [False],\n",
       "       [False],\n",
       "       [False],\n",
       "       [False],\n",
       "       [False],\n",
       "       [ True],\n",
       "       [ True],\n",
       "       [ True],\n",
       "       [ True],\n",
       "       [False],\n",
       "       [ True],\n",
       "       [False],\n",
       "       [ True],\n",
       "       [False],\n",
       "       [False],\n",
       "       [False],\n",
       "       [False],\n",
       "       [False],\n",
       "       [False],\n",
       "       [ True],\n",
       "       [False],\n",
       "       [False],\n",
       "       [False],\n",
       "       [False],\n",
       "       [False],\n",
       "       [False],\n",
       "       [ True],\n",
       "       [False],\n",
       "       [False],\n",
       "       [False],\n",
       "       [False],\n",
       "       [ True],\n",
       "       [False],\n",
       "       [False],\n",
       "       [ True],\n",
       "       [False],\n",
       "       [False],\n",
       "       [False],\n",
       "       [False],\n",
       "       [False],\n",
       "       [False],\n",
       "       [False],\n",
       "       [False],\n",
       "       [False],\n",
       "       [ True],\n",
       "       [False],\n",
       "       [False]])"
      ]
     },
     "execution_count": 36,
     "metadata": {},
     "output_type": "execute_result"
    }
   ],
   "source": [
    "# Predicting the Test set results\n",
    "y_pred = classifier.predict(X_test)\n",
    "y_pred = (y_pred > 0.5)\n",
    "y_pred"
   ]
  },
  {
   "cell_type": "code",
   "execution_count": 37,
   "metadata": {},
   "outputs": [
    {
     "data": {
      "text/plain": [
       "0.7922077922077922"
      ]
     },
     "execution_count": 37,
     "metadata": {},
     "output_type": "execute_result"
    }
   ],
   "source": [
    "# Calculate the Accuracy\n",
    "from sklearn.metrics import accuracy_score\n",
    "score=accuracy_score(y_pred,y_test)\n",
    "score"
   ]
  },
  {
   "cell_type": "code",
   "execution_count": 38,
   "metadata": {},
   "outputs": [],
   "source": [
    "from sklearn.preprocessing import StandardScaler"
   ]
  },
  {
   "cell_type": "code",
   "execution_count": 39,
   "metadata": {},
   "outputs": [],
   "source": [
    "scaler = StandardScaler()\n",
    "X_train_scaled = scaler.fit_transform(X_train)\n",
    "X_test_scaled = scaler.transform(X_test)"
   ]
  },
  {
   "cell_type": "code",
   "execution_count": 40,
   "metadata": {},
   "outputs": [
    {
     "ename": "ValueError",
     "evalue": "could not convert string to float: ''",
     "output_type": "error",
     "traceback": [
      "\u001b[1;31m---------------------------------------------------------------------------\u001b[0m",
      "\u001b[1;31mValueError\u001b[0m                                Traceback (most recent call last)",
      "\u001b[1;32me:\\Final year project\\proj2.ipynb Cell 41\u001b[0m line \u001b[0;36m3\n\u001b[0;32m      <a href='vscode-notebook-cell:/e%3A/Final%20year%20project/proj2.ipynb#X55sZmlsZQ%3D%3D?line=0'>1</a>\u001b[0m user_input \u001b[39m=\u001b[39m []\n\u001b[0;32m      <a href='vscode-notebook-cell:/e%3A/Final%20year%20project/proj2.ipynb#X55sZmlsZQ%3D%3D?line=1'>2</a>\u001b[0m \u001b[39mfor\u001b[39;00m feature \u001b[39min\u001b[39;00m X:\n\u001b[1;32m----> <a href='vscode-notebook-cell:/e%3A/Final%20year%20project/proj2.ipynb#X55sZmlsZQ%3D%3D?line=2'>3</a>\u001b[0m     value \u001b[39m=\u001b[39m \u001b[39mfloat\u001b[39;49m(\u001b[39minput\u001b[39;49m(\u001b[39mf\u001b[39;49m\u001b[39m\"\u001b[39;49m\u001b[39mEnter \u001b[39;49m\u001b[39m{\u001b[39;49;00mfeature\u001b[39m}\u001b[39;49;00m\u001b[39m: \u001b[39;49m\u001b[39m\"\u001b[39;49m))\n\u001b[0;32m      <a href='vscode-notebook-cell:/e%3A/Final%20year%20project/proj2.ipynb#X55sZmlsZQ%3D%3D?line=3'>4</a>\u001b[0m     user_input\u001b[39m.\u001b[39mappend(value)\n\u001b[0;32m      <a href='vscode-notebook-cell:/e%3A/Final%20year%20project/proj2.ipynb#X55sZmlsZQ%3D%3D?line=5'>6</a>\u001b[0m user_input_scaled \u001b[39m=\u001b[39m scaler\u001b[39m.\u001b[39mtransform([user_input])\n",
      "\u001b[1;31mValueError\u001b[0m: could not convert string to float: ''"
     ]
    }
   ],
   "source": [
    "user_input = []\n",
    "for feature in X:\n",
    "    value = float(input(f\"Enter {feature}: \"))\n",
    "    user_input.append(value)\n",
    "\n",
    "user_input_scaled = scaler.transform([user_input])"
   ]
  },
  {
   "cell_type": "code",
   "execution_count": null,
   "metadata": {},
   "outputs": [
    {
     "name": "stdout",
     "output_type": "stream",
     "text": [
      "Prediction: Diabetic\n"
     ]
    }
   ],
   "source": [
    "prediction = user_input_scaled\n",
    "\n",
    "if prediction[0][0] >= 0.5:\n",
    "    result = \"Diabetic\"\n",
    "else:\n",
    "    result = \"Non-Diabetic\"\n",
    "\n",
    "print(\"Prediction:\", result)"
   ]
  },
  {
   "cell_type": "code",
   "execution_count": null,
   "metadata": {},
   "outputs": [
    {
     "data": {
      "text/html": [
       "<style>#sk-container-id-11 {color: black;background-color: white;}#sk-container-id-11 pre{padding: 0;}#sk-container-id-11 div.sk-toggleable {background-color: white;}#sk-container-id-11 label.sk-toggleable__label {cursor: pointer;display: block;width: 100%;margin-bottom: 0;padding: 0.3em;box-sizing: border-box;text-align: center;}#sk-container-id-11 label.sk-toggleable__label-arrow:before {content: \"▸\";float: left;margin-right: 0.25em;color: #696969;}#sk-container-id-11 label.sk-toggleable__label-arrow:hover:before {color: black;}#sk-container-id-11 div.sk-estimator:hover label.sk-toggleable__label-arrow:before {color: black;}#sk-container-id-11 div.sk-toggleable__content {max-height: 0;max-width: 0;overflow: hidden;text-align: left;background-color: #f0f8ff;}#sk-container-id-11 div.sk-toggleable__content pre {margin: 0.2em;color: black;border-radius: 0.25em;background-color: #f0f8ff;}#sk-container-id-11 input.sk-toggleable__control:checked~div.sk-toggleable__content {max-height: 200px;max-width: 100%;overflow: auto;}#sk-container-id-11 input.sk-toggleable__control:checked~label.sk-toggleable__label-arrow:before {content: \"▾\";}#sk-container-id-11 div.sk-estimator input.sk-toggleable__control:checked~label.sk-toggleable__label {background-color: #d4ebff;}#sk-container-id-11 div.sk-label input.sk-toggleable__control:checked~label.sk-toggleable__label {background-color: #d4ebff;}#sk-container-id-11 input.sk-hidden--visually {border: 0;clip: rect(1px 1px 1px 1px);clip: rect(1px, 1px, 1px, 1px);height: 1px;margin: -1px;overflow: hidden;padding: 0;position: absolute;width: 1px;}#sk-container-id-11 div.sk-estimator {font-family: monospace;background-color: #f0f8ff;border: 1px dotted black;border-radius: 0.25em;box-sizing: border-box;margin-bottom: 0.5em;}#sk-container-id-11 div.sk-estimator:hover {background-color: #d4ebff;}#sk-container-id-11 div.sk-parallel-item::after {content: \"\";width: 100%;border-bottom: 1px solid gray;flex-grow: 1;}#sk-container-id-11 div.sk-label:hover label.sk-toggleable__label {background-color: #d4ebff;}#sk-container-id-11 div.sk-serial::before {content: \"\";position: absolute;border-left: 1px solid gray;box-sizing: border-box;top: 0;bottom: 0;left: 50%;z-index: 0;}#sk-container-id-11 div.sk-serial {display: flex;flex-direction: column;align-items: center;background-color: white;padding-right: 0.2em;padding-left: 0.2em;position: relative;}#sk-container-id-11 div.sk-item {position: relative;z-index: 1;}#sk-container-id-11 div.sk-parallel {display: flex;align-items: stretch;justify-content: center;background-color: white;position: relative;}#sk-container-id-11 div.sk-item::before, #sk-container-id-11 div.sk-parallel-item::before {content: \"\";position: absolute;border-left: 1px solid gray;box-sizing: border-box;top: 0;bottom: 0;left: 50%;z-index: -1;}#sk-container-id-11 div.sk-parallel-item {display: flex;flex-direction: column;z-index: 1;position: relative;background-color: white;}#sk-container-id-11 div.sk-parallel-item:first-child::after {align-self: flex-end;width: 50%;}#sk-container-id-11 div.sk-parallel-item:last-child::after {align-self: flex-start;width: 50%;}#sk-container-id-11 div.sk-parallel-item:only-child::after {width: 0;}#sk-container-id-11 div.sk-dashed-wrapped {border: 1px dashed gray;margin: 0 0.4em 0.5em 0.4em;box-sizing: border-box;padding-bottom: 0.4em;background-color: white;}#sk-container-id-11 div.sk-label label {font-family: monospace;font-weight: bold;display: inline-block;line-height: 1.2em;}#sk-container-id-11 div.sk-label-container {text-align: center;}#sk-container-id-11 div.sk-container {/* jupyter's `normalize.less` sets `[hidden] { display: none; }` but bootstrap.min.css set `[hidden] { display: none !important; }` so we also need the `!important` here to be able to override the default hidden behavior on the sphinx rendered scikit-learn.org. See: https://github.com/scikit-learn/scikit-learn/issues/21755 */display: inline-block !important;position: relative;}#sk-container-id-11 div.sk-text-repr-fallback {display: none;}</style><div id=\"sk-container-id-11\" class=\"sk-top-container\"><div class=\"sk-text-repr-fallback\"><pre>SVC(kernel=&#x27;linear&#x27;)</pre><b>In a Jupyter environment, please rerun this cell to show the HTML representation or trust the notebook. <br />On GitHub, the HTML representation is unable to render, please try loading this page with nbviewer.org.</b></div><div class=\"sk-container\" hidden><div class=\"sk-item\"><div class=\"sk-estimator sk-toggleable\"><input class=\"sk-toggleable__control sk-hidden--visually\" id=\"sk-estimator-id-11\" type=\"checkbox\" checked><label for=\"sk-estimator-id-11\" class=\"sk-toggleable__label sk-toggleable__label-arrow\">SVC</label><div class=\"sk-toggleable__content\"><pre>SVC(kernel=&#x27;linear&#x27;)</pre></div></div></div></div></div>"
      ],
      "text/plain": [
       "SVC(kernel='linear')"
      ]
     },
     "execution_count": 77,
     "metadata": {},
     "output_type": "execute_result"
    }
   ],
   "source": [
    "#pickel\n",
    "import pickle\n",
    "\n",
    "pickle.dump(svm_model,open('Final2.pkl' , 'wb'))\n",
    "pickle.load(open('Final2.pkl' , 'rb'))"
   ]
  }
 ],
 "metadata": {
  "kernelspec": {
   "display_name": "Python 3",
   "language": "python",
   "name": "python3"
  },
  "language_info": {
   "codemirror_mode": {
    "name": "ipython",
    "version": 3
   },
   "file_extension": ".py",
   "mimetype": "text/x-python",
   "name": "python",
   "nbconvert_exporter": "python",
   "pygments_lexer": "ipython3",
   "version": "3.11.3"
  }
 },
 "nbformat": 4,
 "nbformat_minor": 2
}
